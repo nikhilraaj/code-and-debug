{
 "cells": [
  {
   "cell_type": "code",
   "execution_count": 2,
   "metadata": {},
   "outputs": [
    {
     "name": "stdout",
     "output_type": "stream",
     "text": [
      "4\n"
     ]
    }
   ],
   "source": [
    "def check_factors(n:int)->None:\n",
    "    i=1\n",
    "    count=0\n",
    "    while i<=n:\n",
    "        if n%i==0:\n",
    "            count+=1\n",
    "        i+=1\n",
    "    return count\n",
    "print(check_factors(10))"
   ]
  },
  {
   "cell_type": "code",
   "execution_count": 5,
   "metadata": {},
   "outputs": [
    {
     "name": "stdout",
     "output_type": "stream",
     "text": [
      "1 2 5 10 "
     ]
    }
   ],
   "source": [
    "def check_factors(n:int)->None:\n",
    "    i=1\n",
    "    while i<=n:\n",
    "        if n%i==0:\n",
    "            print(i,end=\" \")\n",
    "        i+=1\n",
    "check_factors(10)"
   ]
  },
  {
   "cell_type": "code",
   "execution_count": 7,
   "metadata": {},
   "outputs": [
    {
     "name": "stdout",
     "output_type": "stream",
     "text": [
      "True\n",
      "True\n",
      "False\n"
     ]
    }
   ],
   "source": [
    "def count_factors(n:int)->None:\n",
    "    i=1\n",
    "    count=0\n",
    "    while i<=n:\n",
    "        if n%i==0:\n",
    "            count+=1\n",
    "        i+=1\n",
    "    return count\n",
    "\n",
    "def check_prime(n:int)->bool:\n",
    "    factors=count_factors(n)\n",
    "    if factors==2:\n",
    "        return True\n",
    "    return False\n",
    "print(check_prime(5))\n",
    "print(check_prime(19))\n",
    "print(check_prime(10))\n"
   ]
  },
  {
   "cell_type": "code",
   "execution_count": 13,
   "metadata": {},
   "outputs": [
    {
     "name": "stdout",
     "output_type": "stream",
     "text": [
      "1\n",
      "11\n",
      "111\n",
      "1111\n",
      "11111\n",
      "111111\n",
      "1111111\n",
      "11111111\n",
      "111111111\n",
      "1111111111\n"
     ]
    }
   ],
   "source": [
    "n=10\n",
    "i=1\n",
    "num=1\n",
    "while i<=n:\n",
    "    print(num)\n",
    "    num=(num*10)+1\n",
    "    i+=1\n"
   ]
  },
  {
   "cell_type": "code",
   "execution_count": 10,
   "metadata": {},
   "outputs": [
    {
     "name": "stdout",
     "output_type": "stream",
     "text": [
      "1 2 4 8 16 23 46 92 184 368 "
     ]
    }
   ],
   "source": [
    "def factors(n):\n",
    "    i=1\n",
    "    while i<=n:\n",
    "        if n%i==0:\n",
    "            print(i,end=\" \")\n",
    "        i+=1\n",
    "factors(368)"
   ]
  },
  {
   "cell_type": "code",
   "execution_count": 8,
   "metadata": {},
   "outputs": [
    {
     "name": "stdout",
     "output_type": "stream",
     "text": [
      "744\n"
     ]
    }
   ],
   "source": [
    "def sum_of_factors(n):\n",
    "    total=0\n",
    "    i=1\n",
    "    while i<=n:\n",
    "        if n%i==0:\n",
    "            total+=i\n",
    "        i+=1\n",
    "    return total\n",
    "print(sum_of_factors(368))"
   ]
  },
  {
   "cell_type": "code",
   "execution_count": 1,
   "metadata": {},
   "outputs": [
    {
     "name": "stdout",
     "output_type": "stream",
     "text": [
      "1 2 5 10 "
     ]
    }
   ],
   "source": [
    "def check_factors(n:int)->None:\n",
    "    i=1\n",
    "    while i<=n:\n",
    "        if n%i==0:\n",
    "            print(i,end=\" \")\n",
    "        i+=1\n",
    "check_factors(10)"
   ]
  },
  {
   "cell_type": "code",
   "execution_count": 2,
   "metadata": {},
   "outputs": [
    {
     "name": "stdout",
     "output_type": "stream",
     "text": [
      "1\n"
     ]
    }
   ],
   "source": [
    "a=int(input(\"1st\"))\n",
    "b=int(input(\"2nd\"))\n",
    "def sum(a,b):\n",
    "    if a>b:\n",
    "        a,b=b,a\n",
    "    total=0\n",
    "    while a<=b:\n",
    "        total+=a\n",
    "        a+=1\n",
    "    return total\n",
    "print(sum(a,b))"
   ]
  },
  {
   "cell_type": "code",
   "execution_count": 3,
   "metadata": {},
   "outputs": [
    {
     "name": "stdout",
     "output_type": "stream",
     "text": [
      "14\n"
     ]
    }
   ],
   "source": [
    "def squares_sum(n):\n",
    "    i=1\n",
    "    sum=0\n",
    "    while i<=n:\n",
    "        a=i**2\n",
    "        sum+=a\n",
    "        i+=1\n",
    "    return sum\n",
    "n=int(input())\n",
    "print(squares_sum(n))"
   ]
  },
  {
   "cell_type": "code",
   "execution_count": 7,
   "metadata": {},
   "outputs": [
    {
     "name": "stdout",
     "output_type": "stream",
     "text": [
      "120\n"
     ]
    }
   ],
   "source": [
    "def factorial(n):\n",
    "    i=1\n",
    "    fact=1\n",
    "    if n==0:\n",
    "        return 1\n",
    "    while i<=n:\n",
    "        fact*=i\n",
    "        i+=1\n",
    "    return fact\n",
    "n=int(input())\n",
    "print(factorial(n))"
   ]
  },
  {
   "cell_type": "code",
   "execution_count": 8,
   "metadata": {},
   "outputs": [
    {
     "name": "stdout",
     "output_type": "stream",
     "text": [
      "10\n",
      "None\n"
     ]
    }
   ],
   "source": [
    "def pattern(n):\n",
    "    i=1\n",
    "    while i<=n:\n",
    "        i*=10\n",
    "        print(i)\n",
    "        i+=1\n",
    "\n",
    "n=int(input())\n",
    "print(pattern(n))\n"
   ]
  },
  {
   "cell_type": "code",
   "execution_count": 9,
   "metadata": {},
   "outputs": [
    {
     "name": "stdout",
     "output_type": "stream",
     "text": [
      "10\n",
      "20\n",
      "30\n",
      "40\n",
      "50\n",
      "60\n",
      "None\n"
     ]
    }
   ],
   "source": [
    "def pattern(n):\n",
    "    i=1\n",
    "    while i<=n:\n",
    "        print(i*10)\n",
    "        i+=1\n",
    "\n",
    "n=int(input())\n",
    "print(pattern(n))"
   ]
  },
  {
   "cell_type": "code",
   "execution_count": 11,
   "metadata": {},
   "outputs": [
    {
     "name": "stdout",
     "output_type": "stream",
     "text": [
      "10\n",
      "20\n",
      "30\n",
      "40\n",
      "50\n",
      "60\n",
      "70\n",
      "None\n"
     ]
    }
   ],
   "source": [
    "def pattern(n):\n",
    "    i=1\n",
    "    while i<=n:\n",
    "        a=i*10\n",
    "        print(a)\n",
    "        i+=1\n",
    "n=int(input())\n",
    "print(pattern(n))"
   ]
  },
  {
   "cell_type": "code",
   "execution_count": 4,
   "metadata": {},
   "outputs": [
    {
     "name": "stdout",
     "output_type": "stream",
     "text": [
      "0 1 2 3 4 5 6 7 8 9 10 "
     ]
    }
   ],
   "source": [
    "for i in range(11):\n",
    "    print(i,end=\" \")"
   ]
  },
  {
   "cell_type": "code",
   "execution_count": 5,
   "metadata": {},
   "outputs": [
    {
     "data": {
      "text/plain": [
       "False"
      ]
     },
     "execution_count": 5,
     "metadata": {},
     "output_type": "execute_result"
    }
   ],
   "source": [
    "def prime(n:int)->None:\n",
    "    i=1\n",
    "    count=0\n",
    "    while i<=n:\n",
    "        if n%i==0:\n",
    "            count+=1\n",
    "        i+=1\n",
    "    if count==2:\n",
    "        return True\n",
    "    return False\n",
    "count_factors(10)"
   ]
  },
  {
   "cell_type": "code",
   "execution_count": null,
   "metadata": {},
   "outputs": [],
   "source": []
  }
 ],
 "metadata": {
  "kernelspec": {
   "display_name": ".venv",
   "language": "python",
   "name": "python3"
  },
  "language_info": {
   "codemirror_mode": {
    "name": "ipython",
    "version": 3
   },
   "file_extension": ".py",
   "mimetype": "text/x-python",
   "name": "python",
   "nbconvert_exporter": "python",
   "pygments_lexer": "ipython3",
   "version": "3.11.7"
  }
 },
 "nbformat": 4,
 "nbformat_minor": 2
}
