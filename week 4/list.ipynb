{
 "cells": [
  {
   "cell_type": "code",
   "execution_count": 1,
   "metadata": {},
   "outputs": [
    {
     "name": "stdout",
     "output_type": "stream",
     "text": [
      "hello\n"
     ]
    }
   ],
   "source": [
    "print(\"hello\")"
   ]
  },
  {
   "cell_type": "code",
   "execution_count": 23,
   "metadata": {},
   "outputs": [
    {
     "name": "stdout",
     "output_type": "stream",
     "text": [
      "35748.32\n",
      "3\n",
      "31313\n",
      "11\n"
     ]
    }
   ],
   "source": [
    "my_list = [21,3,32,332,4,23,423,31313,3334,32.32,231]\n",
    "print(sum(my_list))\n",
    "print(min(my_list))\n",
    "print(max(my_list))\n",
    "print(len(my_list))"
   ]
  },
  {
   "cell_type": "code",
   "execution_count": 9,
   "metadata": {},
   "outputs": [
    {
     "name": "stdout",
     "output_type": "stream",
     "text": [
      "32\n",
      "231\n",
      "[3, 32, 332]\n",
      "[21, 3, 32, 332, 4, 23, 423, 31313, 3334, 32.32, 231, 456]\n"
     ]
    }
   ],
   "source": [
    "my_list = [21,3,32,332,4,23,423,31313,3334,32.32,231]\n",
    "print(my_list[2])\n",
    "print(my_list[-1])\n",
    "print(my_list[1:4])\n",
    "my_list.append(456)\n",
    "print(my_list)"
   ]
  },
  {
   "cell_type": "code",
   "execution_count": 17,
   "metadata": {},
   "outputs": [
    {
     "name": "stdout",
     "output_type": "stream",
     "text": [
      "32.32\n"
     ]
    }
   ],
   "source": [
    "my_list = [21,3,32,332,4,23,423,31313,3334,32.32,231]\n",
    "# n=len(my_list)\n",
    "# print(my_list[n-1])\n",
    "# print(my_list[n-2])\n",
    "print(my_list[len(my_list)-2])\n",
    "\n"
   ]
  },
  {
   "cell_type": "code",
   "execution_count": 29,
   "metadata": {},
   "outputs": [
    {
     "name": "stdout",
     "output_type": "stream",
     "text": [
      "231\n",
      "32.32\n",
      "3334\n",
      "31313\n",
      "423\n",
      "23\n",
      "4\n",
      "332\n",
      "32\n",
      "3\n",
      "21\n"
     ]
    }
   ],
   "source": [
    "# my_list = [21,3,32,332,4,23,423,31313,3334,32.32,231]\n",
    "# n=len(my_list)\n",
    "# for i in range(0,n):\n",
    "#     print(my_list[i])\n",
    "\n",
    "# 2nd iteration\n",
    "my_list = [21,3,32,332,4,23,423,31313,3334,32.32,231]\n",
    "n=len(my_list)\n",
    "for i in range(n-1,-1,-1):\n",
    "    print(my_list[i])"
   ]
  },
  {
   "cell_type": "code",
   "execution_count": 30,
   "metadata": {},
   "outputs": [
    {
     "name": "stdout",
     "output_type": "stream",
     "text": [
      "77945\n"
     ]
    }
   ],
   "source": [
    "my_list=[54,65,321,76876,432,65,78,54,3454]\n",
    "n=len(my_list)\n",
    "total=0\n",
    "for i in range(0,n-1):\n",
    "    total=total+my_list[i]\n",
    "print(total)"
   ]
  },
  {
   "cell_type": "code",
   "execution_count": 31,
   "metadata": {},
   "outputs": [
    {
     "name": "stdout",
     "output_type": "stream",
     "text": [
      "80948\n"
     ]
    }
   ],
   "source": [
    "my_list=[54,65,321,76876,432,65,78,54,3454]\n",
    "n=len(my_list)\n",
    "total=0\n",
    "for i in range(0,n):\n",
    "    if my_list[i]%2==0:\n",
    "        total=total+my_list[i]\n",
    "print(total)"
   ]
  },
  {
   "cell_type": "code",
   "execution_count": 2,
   "metadata": {},
   "outputs": [
    {
     "name": "stdout",
     "output_type": "stream",
     "text": [
      "[3454, 54, 78, 65, 432, 76876, 321, 65, 54]\n",
      "None\n",
      "[54, 54, 65, 65, 78, 321, 432, 3454, 76876]\n",
      "None\n",
      "[76876, 3454, 432, 321, 78, 65, 65, 54, 54]\n"
     ]
    }
   ],
   "source": [
    "my_list=[54,65,321,76876,432,65,78,54,3454]\n",
    "my_list.reverse()\n",
    "print(my_list)\n",
    "print(my_list.sort())\n",
    "print(my_list)\n",
    "print(my_list.sort(reverse=True))\n",
    "print(my_list)"
   ]
  },
  {
   "cell_type": "code",
   "execution_count": 1,
   "metadata": {},
   "outputs": [
    {
     "name": "stdout",
     "output_type": "stream",
     "text": [
      "[54, 555, 65, 321, 76876, 432, 65, 78, 54, 3454]\n",
      "[]\n"
     ]
    }
   ],
   "source": [
    "my_list=[54,65,321,76876,432,65,78,54,3454]\n",
    "my_list.insert(1,555)\n",
    "print(my_list)\n",
    "my_list.clear()\n",
    "print(my_list)"
   ]
  },
  {
   "cell_type": "code",
   "execution_count": 3,
   "metadata": {},
   "outputs": [
    {
     "name": "stdout",
     "output_type": "stream",
     "text": [
      "[23, 42, 23432, 232, 33, 34]\n",
      "[23, 42, 232, 33, 34]\n",
      "[23, 42, 232, 33]\n"
     ]
    }
   ],
   "source": [
    "list=[23,42,23432,232,33,2,34]\n",
    "list.remove(2)\n",
    "print(list)\n",
    "list.pop(2)\n",
    "print(list)\n",
    "list.pop()\n",
    "print(list)"
   ]
  },
  {
   "cell_type": "code",
   "execution_count": 38,
   "metadata": {},
   "outputs": [
    {
     "name": "stdout",
     "output_type": "stream",
     "text": [
      "['nik', 'hil', 'raj']\n"
     ]
    }
   ],
   "source": [
    "m=[]\n",
    "m.append(input(\"1\"))\n",
    "m.append(input(\"2\"))\n",
    "m.append(input(\"3\"))\n",
    "print(m)"
   ]
  },
  {
   "cell_type": "code",
   "execution_count": 5,
   "metadata": {},
   "outputs": [
    {
     "name": "stdout",
     "output_type": "stream",
     "text": [
      "77060\n"
     ]
    }
   ],
   "source": [
    "my_list=[54,65,321,76876,432,65,78,54,3454]\n",
    "n=len(my_list)\n",
    "total=0\n",
    "for i in range(0,n):\n",
    "    if i%2!=0:\n",
    "        total=total+my_list[i]\n",
    "print(total)"
   ]
  },
  {
   "cell_type": "code",
   "execution_count": 13,
   "metadata": {},
   "outputs": [
    {
     "name": "stdout",
     "output_type": "stream",
     "text": [
      "31\n",
      "7\n",
      "5\n",
      "3\n",
      "17\n",
      "19\n"
     ]
    }
   ],
   "source": [
    "def prime(n):\n",
    "    factors=0\n",
    "    for i in range(1,n+1):\n",
    "        if n%i==0:\n",
    "            factors+=1\n",
    "    if factors==2:\n",
    "        return True\n",
    "    return False\n",
    "\n",
    "my_list=[45,31,7,5,3,100,17,19,25,65,92]\n",
    "n=len(my_list)\n",
    "for i in range(0,n):\n",
    "    if prime(my_list[i])==True:\n",
    "        print(my_list[i])\n"
   ]
  },
  {
   "cell_type": "code",
   "execution_count": 16,
   "metadata": {},
   "outputs": [
    {
     "name": "stdout",
     "output_type": "stream",
     "text": [
      "31\n",
      "7\n",
      "5\n",
      "3\n",
      "17\n",
      "19\n"
     ]
    }
   ],
   "source": [
    "my_list=[45,31,7,5,3,100,17,19,25,65,92]\n",
    "for n in my_list:\n",
    "    factors=0\n",
    "    for i in range(1,n+1):\n",
    "        if n%i==0:\n",
    "            factors+=1\n",
    "    if factors==2:\n",
    "        print(n)"
   ]
  },
  {
   "cell_type": "code",
   "execution_count": 4,
   "metadata": {},
   "outputs": [
    {
     "name": "stdout",
     "output_type": "stream",
     "text": [
      "4\n"
     ]
    }
   ],
   "source": [
    "my_list=[4,8,6,5,3,12,1,3]\n",
    "count=0\n",
    "n=len(my_list)\n",
    "for i in range(0,n):\n",
    "    if my_list[i]%2!=0:\n",
    "        count+=1\n",
    "print(count)\n"
   ]
  },
  {
   "cell_type": "code",
   "execution_count": 9,
   "metadata": {},
   "outputs": [
    {
     "name": "stdout",
     "output_type": "stream",
     "text": [
      "even number count : 5, odd number count : 4\n"
     ]
    }
   ],
   "source": [
    "my_list=[4,8,6,5,3,12,1,3,6]\n",
    "odd_count=0\n",
    "even_count=0\n",
    "n=len(my_list)\n",
    "for i in range(0,n):\n",
    "    if my_list[i]%2==0:\n",
    "        even_count+=1\n",
    "    else:\n",
    "        odd_count+=1\n",
    "print(f\"even number count : {even_count}, odd number count : {odd_count}\")"
   ]
  },
  {
   "cell_type": "code",
   "execution_count": 18,
   "metadata": {},
   "outputs": [
    {
     "name": "stdout",
     "output_type": "stream",
     "text": [
      "5\n",
      "3\n",
      "7\n",
      "2\n"
     ]
    }
   ],
   "source": [
    "my_list=[4,8,6,5,3,12,1,7,6,2]\n",
    "for n in my_list:\n",
    "    factors=0\n",
    "    for i in range(1,n+1):\n",
    "        if n%i==0:\n",
    "            factors+=1\n",
    "    if factors==2:\n",
    "        print(n)"
   ]
  },
  {
   "cell_type": "code",
   "execution_count": 15,
   "metadata": {},
   "outputs": [
    {
     "name": "stdout",
     "output_type": "stream",
     "text": [
      "sum is:54\n",
      "product is:2903040\n"
     ]
    }
   ],
   "source": [
    "my_list=[4,8,6,5,3,12,1,7,6,2]\n",
    "# print(sum(my_list))\n",
    "sum=0\n",
    "product=1\n",
    "n=len(my_list)\n",
    "for i in range(0,n):\n",
    "    sum+=my_list[i]\n",
    "    product*=my_list[i] \n",
    "print(f\"sum is:{sum}\")\n",
    "print(f\"product is:{product}\")\n"
   ]
  },
  {
   "cell_type": "code",
   "execution_count": 14,
   "metadata": {},
   "outputs": [
    {
     "name": "stdout",
     "output_type": "stream",
     "text": [
      "Total of all prime numbers = 17\n"
     ]
    }
   ],
   "source": [
    "my_list=[4,8,6,5,3,12,7,6,2]\n",
    "total = 0\n",
    "for num in my_list:\n",
    "    prime = True\n",
    "    for i in range(2, num):\n",
    "        if num % i == 0:\n",
    "            prime = False\n",
    "            break\n",
    "    if prime:\n",
    "        total += num\n",
    "\n",
    "print(f\"Total of all prime numbers = {total}\")"
   ]
  },
  {
   "cell_type": "code",
   "execution_count": 5,
   "metadata": {},
   "outputs": [
    {
     "name": "stdout",
     "output_type": "stream",
     "text": [
      "10\n",
      "5\n"
     ]
    }
   ],
   "source": [
    "my_list=[4,8,6,5,3,12,10,7,6,2]\n",
    "n=len(my_list)\n",
    "for i in range(n-1,-1,-1):\n",
    "    if my_list[i]%5==0:\n",
    "        print(my_list[i])\n"
   ]
  },
  {
   "cell_type": "code",
   "execution_count": null,
   "metadata": {},
   "outputs": [],
   "source": [
    "my_list = [5,-8,10,-15,2,-4,95,-34,25]\n",
    "n=len(my_list)\n",
    "for i in range(0,n):\n",
    "    "
   ]
  },
  {
   "cell_type": "code",
   "execution_count": 15,
   "metadata": {},
   "outputs": [
    {
     "name": "stdout",
     "output_type": "stream",
     "text": [
      "[5, 4, 2, 0, 6, 7, 4, 8, 101]\n"
     ]
    }
   ],
   "source": [
    "my_list=[4,5,3,1,7,6,5,9,100]\n",
    "n=len(my_list)\n",
    "for i in range(n):\n",
    "    if my_list[i]%2==0:\n",
    "        my_list[i]=my_list[i]+1\n",
    "    else:\n",
    "        my_list[i]=my_list[i]-1\n",
    "print(my_list)\n"
   ]
  },
  {
   "cell_type": "code",
   "execution_count": 1,
   "metadata": {},
   "outputs": [
    {
     "name": "stdout",
     "output_type": "stream",
     "text": [
      "95\n"
     ]
    }
   ],
   "source": [
    "my_list = [5,-8,10,-15,2,-4,95,-34,25]\n",
    "maxi=float(\"-inf\")\n",
    "for num in my_list:\n",
    "    if num>maxi:\n",
    "        maxi=num\n",
    "print(maxi)\n"
   ]
  },
  {
   "cell_type": "code",
   "execution_count": 3,
   "metadata": {},
   "outputs": [
    {
     "name": "stdout",
     "output_type": "stream",
     "text": [
      "-34\n"
     ]
    }
   ],
   "source": [
    "my_list = [5,-8,10,-15,2,-4,95,-34,25]\n",
    "mini=float(\"inf\")\n",
    "for num in my_list:\n",
    "    if num<mini:\n",
    "        mini=num\n",
    "print(mini)"
   ]
  },
  {
   "cell_type": "code",
   "execution_count": 4,
   "metadata": {},
   "outputs": [
    {
     "name": "stdout",
     "output_type": "stream",
     "text": [
      "7\n"
     ]
    }
   ],
   "source": [
    "def prime(num):\n",
    "    for i in range(2,num//2+1):\n",
    "        if num%i == 0:\n",
    "            return False\n",
    "    return True\n",
    "\n",
    "my_list = [4,8,6,1,3,12,1,7,6,2]\n",
    "\n",
    "maxi=0\n",
    "for num in my_list:\n",
    "    if prime(num):\n",
    "        if num > maxi:\n",
    "            maxi=num\n",
    "print(maxi)"
   ]
  },
  {
   "cell_type": "code",
   "execution_count": 3,
   "metadata": {},
   "outputs": [
    {
     "name": "stdout",
     "output_type": "stream",
     "text": [
      "[5, -8, 10, -15, 2, -4, 95, -34, 25]\n",
      "[5, -8, 10, -15, 2, -4, 95, -34, 25, [1, 2, 3]]\n",
      "[5, -8, 10, -15, 2, -4, 95, -34, 25, [1, 2, 3], 5, 5, 5]\n"
     ]
    }
   ],
   "source": [
    "my_list = [5,-8,10,-15,2,-4,95,-34,25]\n",
    "my_list.copy()\n",
    "print(my_list)\n",
    "my_list.append([1,2,3])\n",
    "print(my_list)\n",
    "my_list.extend([5,5,5])\n",
    "print(my_list)"
   ]
  },
  {
   "cell_type": "code",
   "execution_count": 6,
   "metadata": {},
   "outputs": [
    {
     "name": "stdout",
     "output_type": "stream",
     "text": [
      "[-34, -15, -8, -4, 2, 5, 10, 25, 95]\n"
     ]
    }
   ],
   "source": [
    "my_list = [5,-8,10,-15,2,-4,95,-34,25]\n",
    "my_list.sort()\n",
    "print(my_list)"
   ]
  },
  {
   "cell_type": "code",
   "execution_count": 7,
   "metadata": {},
   "outputs": [
    {
     "name": "stdout",
     "output_type": "stream",
     "text": [
      "[4, 4, 4, 5, 6, 7]\n"
     ]
    }
   ],
   "source": [
    "list1=[]\n",
    "n=int(input())\n",
    "for i in range(n):\n",
    "    x=int(input(\"enter no.:\"))\n",
    "    list1.append(x)\n",
    "print(list1)"
   ]
  },
  {
   "cell_type": "code",
   "execution_count": 3,
   "metadata": {},
   "outputs": [
    {
     "name": "stdout",
     "output_type": "stream",
     "text": [
      "[5, 11, 22, 33, 44, 55]\n"
     ]
    }
   ],
   "source": [
    "def create_list(length):\n",
    "    list2 = []\n",
    "    for i in range(length):\n",
    "        x=int(input(\"enter no:\"))\n",
    "        list2.append(x)\n",
    "    return list2\n",
    "print(create_list(6))"
   ]
  },
  {
   "cell_type": "code",
   "execution_count": 26,
   "metadata": {},
   "outputs": [
    {
     "name": "stdout",
     "output_type": "stream",
     "text": [
      "[5, 7, 3, 7]\n"
     ]
    }
   ],
   "source": [
    "list1=[5,7,4,3,4,2,7,8,6,22,64]\n",
    "r_list=[]\n",
    "n=len(list1)\n",
    "for i in range(0,n):\n",
    "    if list1[i]%2!=0:\n",
    "        r_list.append(list1[i])\n",
    "print(r_list)"
   ]
  },
  {
   "cell_type": "code",
   "execution_count": 15,
   "metadata": {},
   "outputs": [
    {
     "name": "stdout",
     "output_type": "stream",
     "text": [
      "[-1, -1, -1, -1, -1]\n"
     ]
    }
   ],
   "source": [
    "a=[-1]*5\n",
    "print(a)\n"
   ]
  },
  {
   "cell_type": "code",
   "execution_count": 24,
   "metadata": {},
   "outputs": [
    {
     "name": "stdout",
     "output_type": "stream",
     "text": [
      "[43, 3, 46, 57]\n",
      "[43, 46, 687, 90, 64]\n",
      "[46, 57, 687, 8, 90, 34, 64, 65, 789, 890, 808]\n",
      "[43, 3, 46, 57, 687]\n",
      "[43, 3, 46, 57, 687, 8, 90, 34, 64, 65, 789, 890, 808]\n",
      "[43, 57, 90, 65, 808]\n"
     ]
    }
   ],
   "source": [
    "# slicing\n",
    "my_list=[43,3,46,57,687,8,90,34,64,65,789,890,808]\n",
    "x=my_list[0:4]\n",
    "print(x)\n",
    "x=my_list[0:9:2]\n",
    "print(x)\n",
    "x=my_list[2:]\n",
    "print(x)\n",
    "x=my_list[:5]\n",
    "print(x)\n",
    "x=my_list[:]\n",
    "print(x)\n",
    "x=my_list[::3]\n",
    "print(x)\n"
   ]
  },
  {
   "cell_type": "code",
   "execution_count": 7,
   "metadata": {},
   "outputs": [
    {
     "name": "stdout",
     "output_type": "stream",
     "text": [
      "my_list:[43, 3, 46, 57, 687, 8, 90, 34, 64]\n",
      "id=2318810564480\n",
      "b=[43, 3, 46, 57, 687, 8, 90, 34, 64]\n",
      "id=2318810564480\n",
      "b=[43, 3, 46, 57, 687, 8, 90, 34, 64]\n",
      "id=2318810788608\n",
      "my_list:[1, 2, 3, 4]\n",
      "id=2318810564480\n"
     ]
    }
   ],
   "source": [
    "my_list=[43,3,46,57,687,8,90,34,64]\n",
    "print(f\"my_list:{my_list}\")\n",
    "print(f\"id={id(my_list)}\")\n",
    "b=my_list\n",
    "print(f\"b={b}\")\n",
    "print(f\"id={id(b)}\")\n",
    "b=my_list[:]\n",
    "print(f\"b={b}\")\n",
    "print(f\"id={id(b)}\")\n",
    "my_list[:]=[1,2,3,4]\n",
    "print(f\"my_list:{my_list}\")\n",
    "print(f\"id={id(my_list)}\")"
   ]
  },
  {
   "cell_type": "code",
   "execution_count": 9,
   "metadata": {},
   "outputs": [
    {
     "name": "stdout",
     "output_type": "stream",
     "text": [
      "my_list = [22, 33, 44, 55]\n",
      "result = [55, 44, 33, 22]\n"
     ]
    }
   ],
   "source": [
    "my_list = []\n",
    "l = int(input(\"Enter length of the list = \"))\n",
    "for i in range(l):\n",
    "    num = int(input(f\"Enter element {i+1} = \"))\n",
    "    my_list.append(num)\n",
    "\n",
    "result = []\n",
    "for i in range(l - 1, -1, -1):\n",
    "    result.append(my_list[i])\n",
    "\n",
    "print(f\"my_list = {my_list}\")\n",
    "print(f\"result = {result}\")"
   ]
  },
  {
   "cell_type": "code",
   "execution_count": 4,
   "metadata": {},
   "outputs": [
    {
     "name": "stdout",
     "output_type": "stream",
     "text": [
      "[1, 22, 33, 44]\n",
      "[44, 33, 22, 1]\n"
     ]
    }
   ],
   "source": [
    "def create_list(length):\n",
    "    my_list=[]\n",
    "    for i in range(length):\n",
    "        n=int(input())\n",
    "        my_list.append(n)\n",
    "    return my_list\n",
    "my_list=create_list(4)\n",
    "print(my_list)\n",
    "n=len(my_list)\n",
    "other_list=[]\n",
    "for i in range(n-1,-1,-1):\n",
    "    other_list.append(my_list[i])\n",
    "print(other_list)"
   ]
  },
  {
   "cell_type": "code",
   "execution_count": 7,
   "metadata": {},
   "outputs": [
    {
     "name": "stdout",
     "output_type": "stream",
     "text": [
      "[234, 456, 77, 773, 456, 33]\n",
      "[77, 773, 33]\n"
     ]
    }
   ],
   "source": [
    "def create_list(length):\n",
    "    my_list=[]\n",
    "    for i in range(length):\n",
    "        n=int(input())\n",
    "        my_list.append(n)\n",
    "    return my_list\n",
    "my_list=create_list(6)\n",
    "print(my_list)\n",
    "n=len(my_list)\n",
    "new_list=[]\n",
    "for i in range(n):\n",
    "    if my_list[i]%2!=0:\n",
    "        new_list.append(my_list[i])\n",
    "print(new_list)"
   ]
  },
  {
   "cell_type": "code",
   "execution_count": 8,
   "metadata": {},
   "outputs": [
    {
     "name": "stdout",
     "output_type": "stream",
     "text": [
      "[43, 46, 57, 687, 8, 90, 34, 64]\n"
     ]
    }
   ],
   "source": [
    "my_list=[43,3,46,1,2,3,2,57,687,8,90,34,64]\n",
    "n=len(my_list)\n",
    "list2=[]\n",
    "for i in range(n):\n",
    "    if my_list[i]>3:\n",
    "        list2.append(my_list[i])\n",
    "print(list2)\n"
   ]
  },
  {
   "cell_type": "code",
   "execution_count": 19,
   "metadata": {},
   "outputs": [
    {
     "name": "stdout",
     "output_type": "stream",
     "text": [
      "[34, 91, 59, 33, 22]\n"
     ]
    }
   ],
   "source": [
    "def removen(nth):\n",
    "    my_list=[34,11,91,59,33,22]\n",
    "    n=len(my_list)\n",
    "    if nth>n:\n",
    "            return \"index no exists\"\n",
    "    else:\n",
    "        my_list.pop(nth)\n",
    "    print(my_list)\n",
    "removen(1)\n"
   ]
  },
  {
   "cell_type": "code",
   "execution_count": 8,
   "metadata": {},
   "outputs": [
    {
     "name": "stdout",
     "output_type": "stream",
     "text": [
      "[7, 9, 7, 11, 6]\n"
     ]
    }
   ],
   "source": [
    "from typing import List\n",
    "def additionOfList(lst1: List[int], lst2: List[int]) -> List[int]:\n",
    "    n = len(lst1)\n",
    "    result = []\n",
    "    for i in range(n):\n",
    "        total = lst1[i] + lst2[i]\n",
    "        result.append(total)\n",
    "    return result\n",
    "\n",
    "\n",
    "list1 = [1, 2, 3, 8, 5]\n",
    "list2 = [6, 7, 4, 3, 1]\n",
    "\n",
    "ans = additionOfList(list1, list2)\n",
    "print(ans)"
   ]
  },
  {
   "cell_type": "code",
   "execution_count": 12,
   "metadata": {},
   "outputs": [
    {
     "name": "stdout",
     "output_type": "stream",
     "text": [
      "3.8\n"
     ]
    }
   ],
   "source": [
    "def average():\n",
    "    list1 = [1, 2, 3, 8, 5]\n",
    "    total=0\n",
    "    n=len(list1)\n",
    "    for i in range(n):\n",
    "        total+=list1[i]\n",
    "        average=total/n\n",
    "    print(average)\n",
    "average()"
   ]
  },
  {
   "cell_type": "code",
   "execution_count": 13,
   "metadata": {},
   "outputs": [
    {
     "name": "stdout",
     "output_type": "stream",
     "text": [
      "even_list:[464, 12, 32, 6, 88, 26]\n",
      "even_list:[11, 5, 41, 15, 5, 57, 55, 41]\n"
     ]
    }
   ],
   "source": [
    "my_list=[11,5,41,464,12,15,5,32,6,57,55,88,41,26]\n",
    "even_list=[]\n",
    "odd_list=[]\n",
    "n=len(my_list)\n",
    "for i in range(n):\n",
    "    if my_list[i]%2==0:\n",
    "        even_list.append(my_list[i])\n",
    "    else:\n",
    "        odd_list.append(my_list[i])\n",
    "print(f\"even_list:{even_list}\")\n",
    "print(f\"even_list:{odd_list}\")"
   ]
  },
  {
   "cell_type": "code",
   "execution_count": 14,
   "metadata": {},
   "outputs": [
    {
     "name": "stdout",
     "output_type": "stream",
     "text": [
      "[4, 110.654, True]\n"
     ]
    }
   ],
   "source": [
    "def listSlice(lst: List, start: int, end: int):\n",
    "    result: List = []\n",
    "    for i in range(start, end + 1):\n",
    "        result.append(lst[i])\n",
    "    print(result)\n",
    "\n",
    "\n",
    "my_list = [\"Anirudh\", 6, 4, 110.654, True, -54]\n",
    "listSlice(my_list, 2, 4)"
   ]
  },
  {
   "cell_type": "code",
   "execution_count": 16,
   "metadata": {},
   "outputs": [
    {
     "name": "stdout",
     "output_type": "stream",
     "text": [
      "[4345, 55643, 6, 4, 110.654]\n"
     ]
    }
   ],
   "source": [
    "def listslice(List,start,end):\n",
    "    list1=[]\n",
    "    for i in range(start,end+1):\n",
    "        list1.append(my_list[i])\n",
    "    print(list1)\n",
    "my_list = [\"nik\", 42,4345,55643,6, 4, 110.654, True, -54]\n",
    "listSlice(my_list, 2, 6)\n"
   ]
  },
  {
   "cell_type": "code",
   "execution_count": 11,
   "metadata": {},
   "outputs": [
    {
     "name": "stdout",
     "output_type": "stream",
     "text": [
      "[6, 4444, 313, 455]\n"
     ]
    }
   ],
   "source": [
    "def listSlice(List,start,end):\n",
    "    print(my_list[start:end+1])\n",
    "\n",
    "\n",
    "my_list = [\"nikhil\", 6,4444,313,455,4, 110.654, True, -54]\n",
    "listSlice(my_list, 1, 4)"
   ]
  },
  {
   "cell_type": "code",
   "execution_count": 21,
   "metadata": {},
   "outputs": [
    {
     "name": "stdout",
     "output_type": "stream",
     "text": [
      "[455, 4, 110.654, True, -54]\n"
     ]
    }
   ],
   "source": [
    "def last_n(l):\n",
    "    my_list = [\"nikhil\", 6,4444,313,455,4, 110.654, True, -54]\n",
    "    n=len(my_list)\n",
    "    result=[]\n",
    "    for i in range(n-l,n):\n",
    "        result.append(my_list[i])\n",
    "    print(result)\n",
    "last_n(5)"
   ]
  },
  {
   "cell_type": "code",
   "execution_count": 23,
   "metadata": {},
   "outputs": [
    {
     "name": "stdout",
     "output_type": "stream",
     "text": [
      "[110.654, True, -54]\n"
     ]
    }
   ],
   "source": [
    "def last_n(List,l):\n",
    "    n=len(my_list)\n",
    "    print(my_list[n-l:])\n",
    "my_list = [\"nikhil\", 6,4444,313,455,4, 110.654, True, -54]\n",
    "last_n(my_list,3)"
   ]
  },
  {
   "cell_type": "code",
   "execution_count": 38,
   "metadata": {},
   "outputs": [
    {
     "name": "stdout",
     "output_type": "stream",
     "text": [
      "[-54, True, 110.654]\n"
     ]
    }
   ],
   "source": [
    "def last_n(List,l):\n",
    "    print(my_list[:-l-1:-1])\n",
    "my_list = [\"nikhil\", 6,4444,313,455,4, 110.654, True, -54]\n",
    "last_n(my_list,3)"
   ]
  },
  {
   "cell_type": "code",
   "execution_count": 33,
   "metadata": {},
   "outputs": [
    {
     "name": "stdout",
     "output_type": "stream",
     "text": [
      "[-54, True, 110.654]\n"
     ]
    }
   ],
   "source": [
    "def reverselistLastNSlice(List, n):\n",
    "    l = len(my_list)\n",
    "    result = my_list[: l - n - 1 : -1]\n",
    "    print(result)\n",
    "\n",
    "\n",
    "my_list = [\"Anirudh\", 6, 4, 110.654, True, -54]\n",
    "reverselistLastNSlice(my_list, 3)"
   ]
  },
  {
   "cell_type": "code",
   "execution_count": 9,
   "metadata": {},
   "outputs": [
    {
     "name": "stdout",
     "output_type": "stream",
     "text": [
      "['nikhil', 6, 4444, 313, 455, 4, 110.654, True, 'nikhil', -54]\n"
     ]
    }
   ],
   "source": [
    "my_list = [\"nikhil\", 6,4444,313,455,4, 110.654, True, -54]\n",
    "n=len(my_list)\n",
    "# my_list.replace(0,my_list[n-1])\n",
    "my_list.insert(n-1,my_list[0])\n",
    "print(my_list)\n"
   ]
  },
  {
   "cell_type": "code",
   "execution_count": 3,
   "metadata": {},
   "outputs": [
    {
     "name": "stdout",
     "output_type": "stream",
     "text": [
      "[-54, 6, 4, 110.654, True, 'Anirudh']\n"
     ]
    }
   ],
   "source": [
    "def interchange(List):\n",
    "    my_list[0], my_list[-1] = my_list[-1] , my_list[0]\n",
    "my_list = [\"Anirudh\", 6, 4, 110.654, True, -54]\n",
    "interchange(my_list)\n",
    "print(my_list)"
   ]
  },
  {
   "cell_type": "code",
   "execution_count": 5,
   "metadata": {},
   "outputs": [
    {
     "name": "stdout",
     "output_type": "stream",
     "text": [
      "[-54, 6, 4, 110.654, True, 'Anirudh']\n"
     ]
    }
   ],
   "source": [
    "def interchange(List):\n",
    "    temp = my_list[0]\n",
    "    my_list[0] = my_list[-1]\n",
    "    my_list[-1] = temp\n",
    "\n",
    "my_list = [\"Anirudh\", 6, 4, 110.654, True, -54]\n",
    "interchange(my_list)\n",
    "print(my_list)"
   ]
  },
  {
   "cell_type": "code",
   "execution_count": 10,
   "metadata": {},
   "outputs": [
    {
     "name": "stdout",
     "output_type": "stream",
     "text": [
      "['nikhil', 76, 6, 4444, 313]\n",
      "[455, 4, 110.654, True, -54]\n"
     ]
    }
   ],
   "source": [
    "def split(list):\n",
    "    mid=len(my_list)//2\n",
    "    first_part=my_list[:mid]\n",
    "    second_part=my_list[mid:]\n",
    "    print(first_part)\n",
    "    print(second_part)\n",
    "my_list = [\"nikhil\",76, 6,4444,313,455,4, 110.654, True, -54]\n",
    "split(my_list)"
   ]
  },
  {
   "cell_type": "code",
   "execution_count": 14,
   "metadata": {},
   "outputs": [
    {
     "name": "stdout",
     "output_type": "stream",
     "text": [
      "[1, 4, 9, 16, 25, 36, 49, 64]\n"
     ]
    }
   ],
   "source": [
    "def power(l):\n",
    "    print([i**2 for i in range(1,l+1)])\n",
    "power(8)"
   ]
  },
  {
   "cell_type": "code",
   "execution_count": 16,
   "metadata": {},
   "outputs": [
    {
     "name": "stdout",
     "output_type": "stream",
     "text": [
      "166\n"
     ]
    }
   ],
   "source": [
    "divisible=[i for i in range(1,1001) if i%6==0 and i%3==0]\n",
    "print(len(divisible))"
   ]
  },
  {
   "cell_type": "code",
   "execution_count": 17,
   "metadata": {},
   "outputs": [
    {
     "name": "stdout",
     "output_type": "stream",
     "text": [
      "[2, 3, 5, 7, 11, 13, 17, 19]\n"
     ]
    }
   ],
   "source": [
    "def prime(num):\n",
    "    for i in range(2,num):\n",
    "        if num%i==0:\n",
    "            return False\n",
    "    return True\n",
    "\n",
    "n=int(input())\n",
    "print([i for i in range(2,n+1) if prime(i)])"
   ]
  },
  {
   "cell_type": "code",
   "execution_count": 18,
   "metadata": {},
   "outputs": [
    {
     "name": "stdout",
     "output_type": "stream",
     "text": [
      "[5, 10, 15, 20, 25, 30]\n"
     ]
    }
   ],
   "source": [
    "n=int(input())\n",
    "print([i for i in range(1,n+1) if i%5==0])"
   ]
  },
  {
   "cell_type": "code",
   "execution_count": null,
   "metadata": {},
   "outputs": [],
   "source": []
  }
 ],
 "metadata": {
  "kernelspec": {
   "display_name": "base",
   "language": "python",
   "name": "python3"
  },
  "language_info": {
   "codemirror_mode": {
    "name": "ipython",
    "version": 3
   },
   "file_extension": ".py",
   "mimetype": "text/x-python",
   "name": "python",
   "nbconvert_exporter": "python",
   "pygments_lexer": "ipython3",
   "version": "3.11.7"
  }
 },
 "nbformat": 4,
 "nbformat_minor": 2
}
