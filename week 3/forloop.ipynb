{
 "cells": [
  {
   "cell_type": "code",
   "execution_count": 3,
   "metadata": {},
   "outputs": [
    {
     "name": "stdout",
     "output_type": "stream",
     "text": [
      "0 1 2 3 4 5 6 7 8 9 10 11 12 13 14 15 16 17 18 19 "
     ]
    }
   ],
   "source": [
    "for i in range(20):\n",
    "    print(i,end=\" \")"
   ]
  },
  {
   "cell_type": "code",
   "execution_count": 5,
   "metadata": {},
   "outputs": [
    {
     "name": "stdout",
     "output_type": "stream",
     "text": [
      "2 5 8 11 14 17 "
     ]
    }
   ],
   "source": [
    "for i in range (2,20,3):\n",
    "    print(i,end=\" \")"
   ]
  },
  {
   "cell_type": "code",
   "execution_count": 9,
   "metadata": {},
   "outputs": [
    {
     "name": "stdout",
     "output_type": "stream",
     "text": [
      "20 19 18 17 16 15 14 13 12 11 10 9 8 7 6 5 4 3 2 1 "
     ]
    }
   ],
   "source": [
    "for i in range(20,0,-1):\n",
    "    print(i,end=\" \")"
   ]
  },
  {
   "cell_type": "code",
   "execution_count": 20,
   "metadata": {},
   "outputs": [
    {
     "name": "stdout",
     "output_type": "stream",
     "text": [
      "45\n"
     ]
    }
   ],
   "source": [
    "start=int(input())\n",
    "end=int(input())\n",
    "sum=0\n",
    "for i in range(start,end+1):\n",
    "    sum=sum+i\n",
    "print(sum)"
   ]
  },
  {
   "cell_type": "code",
   "execution_count": 2,
   "metadata": {},
   "outputs": [
    {
     "name": "stdout",
     "output_type": "stream",
     "text": [
      "21\n"
     ]
    }
   ],
   "source": [
    "start=int(input())\n",
    "end=int(input())\n",
    "sum=0\n",
    "for i in range(start,end+1):\n",
    "    if i%7==0:\n",
    "        sum=sum+i\n",
    "print(sum)"
   ]
  },
  {
   "cell_type": "code",
   "execution_count": 32,
   "metadata": {},
   "outputs": [
    {
     "name": "stdout",
     "output_type": "stream",
     "text": [
      "1 9 10 11 2 9 10 11 3 9 10 11 4 9 10 11 "
     ]
    }
   ],
   "source": [
    "for i in range(1,5):\n",
    "    print(i,end=\" \")\n",
    "    for j in range(9,12):\n",
    "        print(j,end=\" \")"
   ]
  },
  {
   "cell_type": "code",
   "execution_count": 5,
   "metadata": {},
   "outputs": [
    {
     "name": "stdout",
     "output_type": "stream",
     "text": [
      "1 9 22 23 10 22 23 2 9 22 23 10 22 23 3 9 22 23 10 22 23 4 9 22 23 10 22 23 "
     ]
    }
   ],
   "source": [
    "for i in range(1,5):\n",
    "    print(i,end=\" \")\n",
    "    for j in range(9,11):\n",
    "        print(j,end=\" \")\n",
    "        for k in range(22,24):\n",
    "            print(k,end=\" \")"
   ]
  },
  {
   "cell_type": "code",
   "execution_count": 10,
   "metadata": {},
   "outputs": [
    {
     "name": "stdout",
     "output_type": "stream",
     "text": [
      "* * * * * \n",
      "* * * * * \n",
      "* * * * * \n",
      "* * * * * \n",
      "* * * * * \n"
     ]
    }
   ],
   "source": [
    "for i in range(1,6):\n",
    "    for j in range (1,6):\n",
    "        print(\"*\",end=\" \")\n",
    "    print()"
   ]
  },
  {
   "cell_type": "code",
   "execution_count": 19,
   "metadata": {},
   "outputs": [
    {
     "name": "stdout",
     "output_type": "stream",
     "text": [
      "1 2 3 4 5 \n",
      "1 2 3 4 5 \n",
      "1 2 3 4 5 \n",
      "1 2 3 4 5 \n",
      "1 2 3 4 5 \n"
     ]
    }
   ],
   "source": [
    "for i in range(1,6):\n",
    "    for j in range(1,6):\n",
    "        print(j,end=\" \")\n",
    "    print()"
   ]
  },
  {
   "cell_type": "code",
   "execution_count": 17,
   "metadata": {},
   "outputs": [
    {
     "name": "stdout",
     "output_type": "stream",
     "text": [
      "1 1 1 1 1 \n",
      "2 2 2 2 2 \n",
      "3 3 3 3 3 \n",
      "4 4 4 4 4 \n",
      "5 5 5 5 5 \n"
     ]
    }
   ],
   "source": [
    "for i in range(1,6):\n",
    "    for j in range(1,6):\n",
    "        print(i,end=\" \")\n",
    "    print()"
   ]
  },
  {
   "cell_type": "code",
   "execution_count": 24,
   "metadata": {},
   "outputs": [
    {
     "name": "stdout",
     "output_type": "stream",
     "text": [
      "5 4 3 2 1 \n",
      "5 4 3 2 1 \n",
      "5 4 3 2 1 \n",
      "5 4 3 2 1 \n",
      "5 4 3 2 1 \n"
     ]
    }
   ],
   "source": [
    "for i in range(1,6):\n",
    "    for j in range(5,0,-1):\n",
    "        print(j,end=\" \")\n",
    "    print()"
   ]
  },
  {
   "cell_type": "code",
   "execution_count": 25,
   "metadata": {},
   "outputs": [
    {
     "name": "stdout",
     "output_type": "stream",
     "text": [
      "5 4 3 2 1 \n",
      "5 4 3 2 1 \n",
      "5 4 3 2 1 \n",
      "5 4 3 2 1 \n",
      "5 4 3 2 1 \n"
     ]
    }
   ],
   "source": [
    "for i in range(1,6):\n",
    "    for j in range(1,6):\n",
    "        print(6-j,end=\" \")\n",
    "    print()"
   ]
  },
  {
   "cell_type": "code",
   "execution_count": 4,
   "metadata": {},
   "outputs": [
    {
     "name": "stdout",
     "output_type": "stream",
     "text": [
      "11111\n",
      "11111\n",
      "11111\n"
     ]
    }
   ],
   "source": [
    "def pattern(n):\n",
    "    for i in range(1,n+1):\n",
    "        for j in range(1,6):\n",
    "            print(\"1\", end=\"\")\n",
    "        print()\n",
    "n=int(input())\n",
    "pattern(n)"
   ]
  },
  {
   "cell_type": "code",
   "execution_count": 1,
   "metadata": {},
   "outputs": [
    {
     "name": "stdout",
     "output_type": "stream",
     "text": [
      "1 \n",
      "1 2 \n",
      "1 2 3 \n",
      "1 2 3 4 \n",
      "1 2 3 4 5 \n"
     ]
    }
   ],
   "source": [
    "def pattern(n):\n",
    "    for i in range(1,n+1):\n",
    "        for j in range(1,i+1):\n",
    "            print(j,end=\" \")\n",
    "        print()\n",
    "n=int(input())\n",
    "pattern(n)"
   ]
  },
  {
   "cell_type": "code",
   "execution_count": 2,
   "metadata": {},
   "outputs": [
    {
     "name": "stdout",
     "output_type": "stream",
     "text": [
      "1 \n",
      "1 2 \n",
      "1 2 3 \n",
      "1 2 3 4 \n",
      "1 2 3 4 5 \n",
      "1 2 3 4 5 6 \n"
     ]
    }
   ],
   "source": [
    "def pattern(n):\n",
    "    for i in range(n,0,-1):\n",
    "        for j in range(1,(n-i)+2):\n",
    "            print(j,end=\" \")\n",
    "        print()\n",
    "n=int(input())\n",
    "pattern(n)"
   ]
  },
  {
   "cell_type": "code",
   "execution_count": 4,
   "metadata": {},
   "outputs": [
    {
     "name": "stdout",
     "output_type": "stream",
     "text": [
      "1 \n",
      "2 1 \n",
      "3 2 1 \n",
      "4 3 2 1 \n",
      "5 4 3 2 1 \n"
     ]
    }
   ],
   "source": [
    "def pattern(n):\n",
    "    for i in range(1,n+1):\n",
    "        for j in range(i,0,-1):\n",
    "            print(j,end=\" \")\n",
    "        print()\n",
    "n=int(input())\n",
    "pattern(n)"
   ]
  },
  {
   "cell_type": "code",
   "execution_count": 13,
   "metadata": {},
   "outputs": [
    {
     "name": "stdout",
     "output_type": "stream",
     "text": [
      "5 \n",
      "4 5 \n",
      "3 4 5 \n",
      "2 3 4 5 \n",
      "1 2 3 4 5 \n"
     ]
    }
   ],
   "source": [
    "def pattern(n):\n",
    "    for i in range(n,0,-1):\n",
    "        for j in range(i,n+1):\n",
    "            print(j,end=\" \")\n",
    "        print()\n",
    "n=int(input())\n",
    "pattern(n)"
   ]
  },
  {
   "cell_type": "code",
   "execution_count": 14,
   "metadata": {},
   "outputs": [
    {
     "name": "stdout",
     "output_type": "stream",
     "text": [
      "        * \n",
      "      * * \n",
      "    * * * \n",
      "  * * * * \n",
      "* * * * * \n"
     ]
    }
   ],
   "source": [
    "def pattern(n):\n",
    "    for i in range(1,n+1):\n",
    "        for j in range(1,n-i+1):\n",
    "            print(\" \",end=\" \")\n",
    "        for k in range(1,i+1):\n",
    "            print(\"*\",end=\" \")\n",
    "        print()\n",
    "n=int(input())\n",
    "pattern(n)"
   ]
  },
  {
   "cell_type": "code",
   "execution_count": 5,
   "metadata": {},
   "outputs": [
    {
     "name": "stdout",
     "output_type": "stream",
     "text": [
      "1 \n",
      "1 2 \n",
      "1 2 3 \n",
      "1 2 3 4 \n"
     ]
    }
   ],
   "source": [
    "def pattern(n):\n",
    "    for i in range(1,n+1) :\n",
    "        for j in range(1,i+1):\n",
    "            print(j,end=\" \")\n",
    "        print()\n",
    "n=int(input())\n",
    "pattern(n)"
   ]
  },
  {
   "cell_type": "code",
   "execution_count": 3,
   "metadata": {},
   "outputs": [
    {
     "name": "stdout",
     "output_type": "stream",
     "text": [
      "1 \n",
      "2 1 \n",
      "3 2 1 \n",
      "4 3 2 1 \n",
      "5 4 3 2 1 \n"
     ]
    }
   ],
   "source": [
    "def pattern(n):\n",
    "    for i in range(1,n+1):\n",
    "        for j in range(i,0,-1):\n",
    "            print(j,end=\" \")\n",
    "        print()\n",
    "n=int(input())\n",
    "pattern(n)"
   ]
  },
  {
   "cell_type": "code",
   "execution_count": 4,
   "metadata": {},
   "outputs": [
    {
     "name": "stdout",
     "output_type": "stream",
     "text": [
      "5 \n",
      "4 5 \n",
      "3 4 5 \n",
      "2 3 4 5 \n",
      "1 2 3 4 5 \n"
     ]
    }
   ],
   "source": [
    "def pattern(n):\n",
    "    for i in range(n,0,-1):\n",
    "        for j in range(i,n+1):\n",
    "            print(j,end=\" \")\n",
    "        print()\n",
    "n=int(input())\n",
    "pattern(n)"
   ]
  },
  {
   "cell_type": "code",
   "execution_count": 7,
   "metadata": {},
   "outputs": [
    {
     "name": "stdout",
     "output_type": "stream",
     "text": [
      "1 \n",
      "1 2 \n",
      "1 2 3 \n",
      "1 2 3 4 \n",
      "1 2 3 4 5 \n"
     ]
    }
   ],
   "source": [
    "def pattern (n):\n",
    "    for i in range(1,n+1):\n",
    "        for j in range(1,i+1):\n",
    "            print(j,end=\" \")\n",
    "        print()\n",
    "pattern(5)"
   ]
  },
  {
   "cell_type": "code",
   "execution_count": 16,
   "metadata": {},
   "outputs": [
    {
     "name": "stdout",
     "output_type": "stream",
     "text": [
      "5 \n",
      "5 4 \n",
      "5 4 3 \n",
      "5 4 3 2 \n",
      "5 4 3 2 1 \n"
     ]
    }
   ],
   "source": [
    "def pattern (n):\n",
    "    for i in range(n,0,-1):\n",
    "        for j in range(n,i-1,-1):\n",
    "            print(j,end=\" \")\n",
    "        print()\n",
    "n=int(input())\n",
    "pattern(n)"
   ]
  },
  {
   "cell_type": "code",
   "execution_count": 6,
   "metadata": {},
   "outputs": [
    {
     "name": "stdout",
     "output_type": "stream",
     "text": [
      "5 4 3 2 1 \n",
      "5 4 3 2 \n",
      "5 4 3 \n",
      "5 4 \n",
      "5 \n"
     ]
    }
   ],
   "source": [
    "def pattern (n):\n",
    "    for i in range(1,n+1):\n",
    "        for j in range(n,i-1,-1):\n",
    "            print(j,end=\" \")\n",
    "        print()\n",
    "n=int(input())\n",
    "pattern(n)"
   ]
  },
  {
   "cell_type": "code",
   "execution_count": 7,
   "metadata": {},
   "outputs": [
    {
     "name": "stdout",
     "output_type": "stream",
     "text": [
      "1 2 3 4 5 \n",
      "2 3 4 5 \n",
      "3 4 5 \n",
      "4 5 \n",
      "5 \n"
     ]
    }
   ],
   "source": [
    "def pattern (n):\n",
    "    for i in range(1,n+1):\n",
    "        for j in range(i,n+1):\n",
    "            print(j,end=\" \")\n",
    "        print()\n",
    "n=int(input())\n",
    "pattern(n)"
   ]
  },
  {
   "cell_type": "code",
   "execution_count": 15,
   "metadata": {},
   "outputs": [
    {
     "name": "stdout",
     "output_type": "stream",
     "text": [
      "5 4 3 2 1 \n",
      "4 3 2 1 \n",
      "3 2 1 \n",
      "2 1 \n",
      "1 \n",
      "\n"
     ]
    }
   ],
   "source": [
    "def pattern (n):\n",
    "    for i in range(0,n+1):\n",
    "        for j in range(n-i,0,-1):\n",
    "            print(j,end=\" \")\n",
    "        print()\n",
    "n=int(input())\n",
    "pattern(n)"
   ]
  },
  {
   "cell_type": "code",
   "execution_count": 17,
   "metadata": {},
   "outputs": [
    {
     "name": "stdout",
     "output_type": "stream",
     "text": [
      "5 4 3 2 1 \n",
      "4 3 2 1 \n",
      "3 2 1 \n",
      "2 1 \n",
      "1 \n"
     ]
    }
   ],
   "source": [
    "def pattern(n: int):\n",
    "    for i in range(n, 0, -1):\n",
    "        for j in range(i, 0, -1):\n",
    "            print(j, end=\" \")\n",
    "        print()\n",
    "\n",
    "\n",
    "pattern(5)"
   ]
  },
  {
   "cell_type": "code",
   "execution_count": 27,
   "metadata": {},
   "outputs": [
    {
     "name": "stdout",
     "output_type": "stream",
     "text": [
      "1 \n",
      "2 3 \n",
      "4 5 6 \n",
      "7 8 9 10 \n",
      "11 12 13 14 15 \n"
     ]
    }
   ],
   "source": [
    "def pattern(n):\n",
    "    number=1\n",
    "    for i in range(1,n+1):\n",
    "        for j in range(1,i+1):\n",
    "            print(number,end=\" \")\n",
    "            number+=1\n",
    "        print()\n",
    "n=int(input())\n",
    "pattern(n)"
   ]
  },
  {
   "cell_type": "code",
   "execution_count": 29,
   "metadata": {},
   "outputs": [
    {
     "name": "stdout",
     "output_type": "stream",
     "text": [
      "1 \n",
      "1 2 \n",
      "1 2 1 \n",
      "1 2 1 2 \n",
      "1 2 1 2 1 \n"
     ]
    }
   ],
   "source": [
    "def pattern (n):\n",
    "    for i in range(1,n+1):\n",
    "        for j in range(1,i+1):\n",
    "            if j%2 == 0:\n",
    "                print(2, end=\" \")\n",
    "            else:\n",
    "                print(1, end=\" \")\n",
    "        print()\n",
    "n=int(input())\n",
    "pattern(n)"
   ]
  },
  {
   "cell_type": "code",
   "execution_count": 30,
   "metadata": {},
   "outputs": [
    {
     "name": "stdout",
     "output_type": "stream",
     "text": [
      "1 2 3 4 5 \n",
      "1 2 3 4 \n",
      "1 2 3 \n",
      "1 2 \n",
      "1 \n"
     ]
    }
   ],
   "source": [
    "def pattern (n):\n",
    "    for i in range(n,0,-1):\n",
    "        for j in range(1,i+1):\n",
    "            print(j,end=\" \")\n",
    "        print()\n",
    "n=int(input())\n",
    "pattern(n)"
   ]
  },
  {
   "cell_type": "code",
   "execution_count": 34,
   "metadata": {},
   "outputs": [
    {
     "name": "stdout",
     "output_type": "stream",
     "text": [
      "        5 \n",
      "      5 4 \n",
      "    5 4 3 \n",
      "  5 4 3 2 \n",
      "5 4 3 2 1 \n"
     ]
    }
   ],
   "source": [
    "def pattern (n):\n",
    "    for i in range(1,n+1):\n",
    "        for j in range(1,n-i+1):\n",
    "            print(\" \",end=\" \")\n",
    "        for k in range(n,n-i,-1):\n",
    "            print(k,end=\" \")\n",
    "        print()\n",
    "n=int(input())\n",
    "pattern(n)"
   ]
  },
  {
   "cell_type": "code",
   "execution_count": 36,
   "metadata": {},
   "outputs": [
    {
     "name": "stdout",
     "output_type": "stream",
     "text": [
      "        5 \n",
      "      5 4 \n",
      "    5 4 3 \n",
      "  5 4 3 2 \n",
      "5 4 3 2 1 \n"
     ]
    }
   ],
   "source": [
    "def pattern (n):\n",
    "    for i in range(n,0,-1):\n",
    "        for j in range(1,i):\n",
    "            print(\" \",end=\" \")\n",
    "        for k in range(n,i-1,-1):\n",
    "            print(k,end=\" \")\n",
    "        print()\n",
    "n=int(input())\n",
    "pattern(n)"
   ]
  },
  {
   "cell_type": "code",
   "execution_count": 39,
   "metadata": {},
   "outputs": [
    {
     "name": "stdout",
     "output_type": "stream",
     "text": [
      "        * \n",
      "      * * * \n",
      "    * * * * * \n",
      "  * * * * * * * \n",
      "* * * * * * * * * \n"
     ]
    }
   ],
   "source": [
    "def pattern (n):\n",
    "    for i in range(1,n+1):\n",
    "        for j in range(1,n-i+1):\n",
    "            print(\" \",end=\" \")\n",
    "        for k in range(1,i*2):\n",
    "            print(\"*\",end=\" \")\n",
    "        print()\n",
    "n=int(input())\n",
    "pattern(n)"
   ]
  },
  {
   "cell_type": "code",
   "execution_count": 57,
   "metadata": {},
   "outputs": [
    {
     "name": "stdout",
     "output_type": "stream",
     "text": [
      "        * \n",
      "      * * * \n",
      "    * * * * * \n",
      "  * * * * * * * \n",
      "* * * * * * * * * \n",
      "  * * * * * * * \n",
      "    * * * * * \n",
      "      * * * \n",
      "        * \n"
     ]
    }
   ],
   "source": [
    "def pattern (n):\n",
    "    for i in range(1,n//2+2):\n",
    "        for j in range(1,((n//2)+1-i)+1):\n",
    "            print(\" \",end=\" \")\n",
    "        for k in range(1,i*2):\n",
    "            print(\"*\",end=\" \")\n",
    "        print()\n",
    "    for i in range(n//2,0,-1):\n",
    "        for j in range(1,n//2+1-i+1):\n",
    "            print(\" \",end=\" \")\n",
    "        for k in range(1,i*2):\n",
    "            print(\"*\",end=\" \")\n",
    "        print()\n",
    "n=int(input())\n",
    "pattern(n)"
   ]
  },
  {
   "cell_type": "code",
   "execution_count": 58,
   "metadata": {},
   "outputs": [
    {
     "name": "stdout",
     "output_type": "stream",
     "text": [
      "        1 \n",
      "      1 2 \n",
      "    1 2 3 \n",
      "  1 2 3 4 \n",
      "1 2 3 4 5 \n"
     ]
    }
   ],
   "source": [
    "def pattern (n):\n",
    "    for i in range(1,n+1):\n",
    "        for j in range(1,n-i+1):\n",
    "            print(\" \",end=\" \")\n",
    "        for k in range(1,i+1):\n",
    "            print(k,end=\" \")\n",
    "        print()\n",
    "n=int(input())\n",
    "pattern(n)"
   ]
  },
  {
   "cell_type": "code",
   "execution_count": 71,
   "metadata": {},
   "outputs": [
    {
     "name": "stdout",
     "output_type": "stream",
     "text": [
      "              1 \n",
      "            2 1 \n",
      "          3 2 1 \n",
      "        4 3 2 1 \n",
      "      5 4 3 2 1 \n",
      "    6 5 4 3 2 1 \n",
      "  7 6 5 4 3 2 1 \n",
      "8 7 6 5 4 3 2 1 \n"
     ]
    }
   ],
   "source": [
    "def pattern (n):\n",
    "    for i in range(1,n+1):\n",
    "        for j in range(1,n-i+1):\n",
    "            print(\" \",end=\" \")\n",
    "        for k in range(i,0,-1):\n",
    "            print(k,end=\" \")\n",
    "        print()\n",
    "n=int(input())\n",
    "pattern(n)"
   ]
  },
  {
   "cell_type": "code",
   "execution_count": 72,
   "metadata": {},
   "outputs": [
    {
     "name": "stdout",
     "output_type": "stream",
     "text": [
      "    3 \n",
      "  3 2 \n",
      "3 2 1 \n"
     ]
    }
   ],
   "source": [
    "def pattern (n):\n",
    "    for i in range(n,0,-1):\n",
    "        for j in range(1,i):\n",
    "            print(\" \",end=\" \")\n",
    "        for k in range(n,i-1,-1):\n",
    "            print(k,end=\" \")\n",
    "        print()\n",
    "n=int(input())\n",
    "pattern(n)"
   ]
  },
  {
   "cell_type": "code",
   "execution_count": 73,
   "metadata": {},
   "outputs": [
    {
     "name": "stdout",
     "output_type": "stream",
     "text": [
      "                9 \n",
      "              8 9 \n",
      "            7 8 9 \n",
      "          6 7 8 9 \n",
      "        5 6 7 8 9 \n",
      "      4 5 6 7 8 9 \n",
      "    3 4 5 6 7 8 9 \n",
      "  2 3 4 5 6 7 8 9 \n",
      "1 2 3 4 5 6 7 8 9 \n"
     ]
    }
   ],
   "source": [
    "def pattern (n):\n",
    "    for i in range(n,0,-1):\n",
    "        for j in range(1,i):\n",
    "            print(\" \",end=\" \")\n",
    "        for k in range(i,n+1):\n",
    "            print(k,end=\" \")\n",
    "        print()\n",
    "n=int(input())\n",
    "pattern(n)"
   ]
  },
  {
   "cell_type": "code",
   "execution_count": 83,
   "metadata": {},
   "outputs": [
    {
     "name": "stdout",
     "output_type": "stream",
     "text": [
      "        5 \n",
      "      4 4 \n",
      "    3 3 3 \n",
      "  2 2 2 2 \n",
      "1 1 1 1 1 \n"
     ]
    }
   ],
   "source": [
    "def pattern (n):\n",
    "    for i in range(n,0,-1):\n",
    "        for j in range(1,i):\n",
    "            print(\" \",end=\" \")\n",
    "        for k in range(i,n+1):\n",
    "            print(i,end=\" \")\n",
    "        print()\n",
    "n=int(input())\n",
    "pattern(n)"
   ]
  },
  {
   "cell_type": "code",
   "execution_count": 87,
   "metadata": {},
   "outputs": [
    {
     "name": "stdout",
     "output_type": "stream",
     "text": [
      "        1 \n",
      "      1 2 3 \n",
      "    1 2 3 4 5 \n",
      "  1 2 3 4 5 6 7 \n",
      "1 2 3 4 5 6 7 8 9 \n"
     ]
    }
   ],
   "source": [
    "def pattern (n):\n",
    "    for i in range(1,n+1):\n",
    "        for j in range(1,n-i+1):\n",
    "            print(\" \",end=\" \")\n",
    "        for k in range(1,i*2):\n",
    "            print(k,end=\" \")\n",
    "        print()\n",
    "n=int(input())\n",
    "pattern(n)"
   ]
  },
  {
   "cell_type": "code",
   "execution_count": 2,
   "metadata": {},
   "outputs": [
    {
     "name": "stdout",
     "output_type": "stream",
     "text": [
      "        1 \n",
      "      2 2 2 \n",
      "    3 3 3 3 3 \n",
      "  4 4 4 4 4 4 4 \n",
      "5 5 5 5 5 5 5 5 5 \n"
     ]
    }
   ],
   "source": [
    "def pattern (n):\n",
    "    for i in range(1,n+1):\n",
    "        for j in range(1,n-i+1):\n",
    "            print(\" \",end=\" \")\n",
    "        for k in range(1,i*2):\n",
    "            print(i,end=\" \")\n",
    "        print()\n",
    "n=int(input())\n",
    "pattern(n)"
   ]
  },
  {
   "cell_type": "code",
   "execution_count": 89,
   "metadata": {},
   "outputs": [
    {
     "name": "stdout",
     "output_type": "stream",
     "text": [
      "        5 \n",
      "      4 4 4 \n",
      "    3 3 3 3 3 \n",
      "  2 2 2 2 2 2 2 \n",
      "1 1 1 1 1 1 1 1 1 \n"
     ]
    }
   ],
   "source": [
    "def pattern (n):\n",
    "    for i in range(1,n+1):\n",
    "        for j in range(1,n-i+1):\n",
    "            print(\" \",end=\" \")\n",
    "        for k in range(1,i*2):\n",
    "            print(n+1-i,end=\" \")\n",
    "        print()\n",
    "n=int(input())\n",
    "pattern(n)"
   ]
  },
  {
   "cell_type": "code",
   "execution_count": 90,
   "metadata": {},
   "outputs": [
    {
     "name": "stdout",
     "output_type": "stream",
     "text": [
      "        1 \n",
      "      1 2 3 \n",
      "    1 2 3 4 5 \n",
      "  1 2 3 4 5 6 7 \n",
      "1 2 3 4 5 6 7 8 9 \n",
      "  1 2 3 4 5 6 7 \n",
      "    1 2 3 4 5 \n",
      "      1 2 3 \n",
      "        1 \n"
     ]
    }
   ],
   "source": [
    "def pattern (n):\n",
    "    for i in range(1,n//2+1+1):\n",
    "        for j in range(1,n//2+1-i+1):\n",
    "            print(\" \",end=\" \")\n",
    "        for k in range(1,i*2):\n",
    "            print(k,end=\" \")\n",
    "        print()\n",
    "    for i in range(n//2,0,-1):\n",
    "        for j in range(1,n//2+1-i+1):\n",
    "            print(\" \",end=\" \")\n",
    "        for k in range(1,i*2):\n",
    "            print(k,end=\" \")\n",
    "        print()\n",
    "n=int(input())\n",
    "pattern(n)"
   ]
  },
  {
   "cell_type": "code",
   "execution_count": 5,
   "metadata": {},
   "outputs": [
    {
     "name": "stdout",
     "output_type": "stream",
     "text": [
      "* \n",
      "* * \n",
      "* * * \n",
      "* * * * \n",
      "* * * * * \n",
      "* * * * \n",
      "* * * \n",
      "* * \n",
      "* \n"
     ]
    }
   ],
   "source": [
    "def pattern(n):\n",
    "    for i in range(1,n//2+1+1):\n",
    "        for j in range(1,i+1):\n",
    "            print(\"*\", end=\" \")\n",
    "        print()\n",
    "    for i in range(n//2,0,-1):\n",
    "        for j in range(1,i+1):\n",
    "            print(\"*\", end=\" \")\n",
    "        print()\n",
    "n=int(input())\n",
    "pattern(n)"
   ]
  },
  {
   "cell_type": "code",
   "execution_count": 6,
   "metadata": {},
   "outputs": [
    {
     "name": "stdout",
     "output_type": "stream",
     "text": [
      "1 \n",
      "1 2 \n",
      "1 2 3 \n",
      "1 2 3 4 \n",
      "1 2 3 4 5 \n",
      "1 2 3 4 \n",
      "1 2 3 \n",
      "1 2 \n",
      "1 \n"
     ]
    }
   ],
   "source": [
    "def pattern(n):\n",
    "    for i in range(1,n//2+1+1):\n",
    "        for j in range(1,i+1):\n",
    "            print(j, end=\" \")\n",
    "        print()\n",
    "    for i in range(n//2,0,-1):\n",
    "        for j in range(1,i+1):\n",
    "            print(j, end=\" \")\n",
    "        print()\n",
    "n=int(input())\n",
    "pattern(n)"
   ]
  },
  {
   "cell_type": "code",
   "execution_count": 11,
   "metadata": {},
   "outputs": [
    {
     "name": "stdout",
     "output_type": "stream",
     "text": [
      "5 \n",
      "4 5 \n",
      "3 4 5 \n",
      "2 3 4 5 \n",
      "1 2 3 4 5 \n",
      "2 3 4 5 \n",
      "3 4 5 \n",
      "4 5 \n",
      "5 \n"
     ]
    }
   ],
   "source": [
    "def pattern(n):\n",
    "    for i in range(n//2+1,0,-1):\n",
    "        for j in range(i,n//2+2):\n",
    "            print(j, end=\" \")\n",
    "        print()\n",
    "    for i in range(2,n//2+2):\n",
    "        for j in range(i,n//2+2):\n",
    "            print(j, end=\" \")\n",
    "        print()\n",
    "n=int(input())\n",
    "pattern(n)"
   ]
  },
  {
   "cell_type": "code",
   "execution_count": 13,
   "metadata": {},
   "outputs": [
    {
     "name": "stdout",
     "output_type": "stream",
     "text": [
      "        * \n",
      "      * * \n",
      "    * * * \n",
      "  * * * * \n",
      "* * * * * \n",
      "  * * * * \n",
      "    * * * \n",
      "      * * \n",
      "        * \n"
     ]
    }
   ],
   "source": [
    "def pattern(n):\n",
    "    for i in range(1,n//2+1+1):\n",
    "        for j in range(1,n//2+1-i+1):\n",
    "            print(\" \", end=\" \")\n",
    "        for k in range(1,i+1):\n",
    "            print(\"*\", end=\" \")\n",
    "        print()\n",
    "    for i in range(n//2,0,-1):\n",
    "        for j in range(1,n//2+1-i+1):\n",
    "            print(\" \", end=\" \")\n",
    "        for k in range(1,i+1):\n",
    "            print(\"*\", end=\" \")\n",
    "        print()\n",
    "n=int(input())\n",
    "pattern(n)"
   ]
  },
  {
   "cell_type": "code",
   "execution_count": 14,
   "metadata": {},
   "outputs": [
    {
     "name": "stdout",
     "output_type": "stream",
     "text": [
      "        1 \n",
      "      1 2 \n",
      "    1 2 3 \n",
      "  1 2 3 4 \n",
      "1 2 3 4 5 \n",
      "  1 2 3 4 \n",
      "    1 2 3 \n",
      "      1 2 \n",
      "        1 \n"
     ]
    }
   ],
   "source": [
    "def pattern(n):\n",
    "    for i in range(1,n//2+1+1):\n",
    "        for j in range(1,n//2+1-i+1):\n",
    "            print(\" \", end=\" \")\n",
    "        for k in range(1,i+1):\n",
    "            print(k, end=\" \")\n",
    "        print()\n",
    "    for i in range(n//2,0,-1):\n",
    "        for j in range(1,n//2+1-i+1):\n",
    "            print(\" \", end=\" \")\n",
    "        for k in range(1,i+1):\n",
    "            print(k, end=\" \")\n",
    "        print()\n",
    "n=int(input())\n",
    "pattern(n)"
   ]
  },
  {
   "cell_type": "code",
   "execution_count": 15,
   "metadata": {},
   "outputs": [
    {
     "name": "stdout",
     "output_type": "stream",
     "text": [
      "        1 \n",
      "      2 1 \n",
      "    3 2 1 \n",
      "  4 3 2 1 \n",
      "5 4 3 2 1 \n",
      "  4 3 2 1 \n",
      "    3 2 1 \n",
      "      2 1 \n",
      "        1 \n"
     ]
    }
   ],
   "source": [
    "def pattern(n):\n",
    "    for i in range(1,n//2+1+1):\n",
    "        for j in range(1,n//2+1-i+1):\n",
    "            print(\" \", end=\" \")\n",
    "        for k in range(i,0,-1):\n",
    "            print(k, end=\" \")\n",
    "        print()\n",
    "    for i in range(n//2,0,-1):\n",
    "        for j in range(1,n//2+1-i+1):\n",
    "            print(\" \", end=\" \")\n",
    "        for k in range(i,0,-1):\n",
    "            print(k, end=\" \")\n",
    "        print()\n",
    "n=int(input())\n",
    "pattern(n)"
   ]
  },
  {
   "cell_type": "code",
   "execution_count": null,
   "metadata": {},
   "outputs": [],
   "source": []
  }
 ],
 "metadata": {
  "kernelspec": {
   "display_name": ".venv",
   "language": "python",
   "name": "python3"
  },
  "language_info": {
   "codemirror_mode": {
    "name": "ipython",
    "version": 3
   },
   "file_extension": ".py",
   "mimetype": "text/x-python",
   "name": "python",
   "nbconvert_exporter": "python",
   "pygments_lexer": "ipython3",
   "version": "3.11.7"
  }
 },
 "nbformat": 4,
 "nbformat_minor": 2
}
